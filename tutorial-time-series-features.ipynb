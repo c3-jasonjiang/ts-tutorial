{
 "cells": [
  {
   "cell_type": "markdown",
   "metadata": {},
   "source": [
    "# Module Tutorial: Create and Encode Time Series Features"
   ]
  },
  {
   "cell_type": "markdown",
   "metadata": {},
   "source": [
    "## Overview"
   ]
  },
  {
   "cell_type": "markdown",
   "metadata": {},
   "source": [
    "This module tutorial covers three core categories of time series features: date time features, lag features, and window statistics. These features will all be computed using the pandas library."
   ]
  },
  {
   "cell_type": "markdown",
   "metadata": {
    "vscode": {
     "languageId": "plaintext"
    }
   },
   "source": [
    "### Learning objectives"
   ]
  },
  {
   "cell_type": "markdown",
   "metadata": {},
   "source": [
    "By the end of this tutorial, you will be able to:\n",
    "- Access date and time information from a datetime object and encode it.\n",
    "- Create lag features.\n",
    "- Compare and contrast rolling and expanding windows."
   ]
  },
  {
   "cell_type": "markdown",
   "metadata": {},
   "source": [
    "### Estimated Time"
   ]
  },
  {
   "cell_type": "markdown",
   "metadata": {},
   "source": [
    "This lab will take approximately **30 minutes** to complete."
   ]
  },
  {
   "cell_type": "markdown",
   "metadata": {},
   "source": [
    "### Prerequisites"
   ]
  },
  {
   "cell_type": "markdown",
   "metadata": {},
   "source": [
    "- Familiarity with pandas, numpy, and lambdas.\n",
    "- Knowledge of linear and logistic regression."
   ]
  },
  {
   "cell_type": "markdown",
   "metadata": {},
   "source": [
    "### Lab Setup"
   ]
  },
  {
   "cell_type": "code",
   "execution_count": null,
   "metadata": {},
   "outputs": [],
   "source": [
    "import pandas as pd\n",
    "import matplotlib.pyplot as plt"
   ]
  },
  {
   "cell_type": "markdown",
   "metadata": {
    "vscode": {
     "languageId": "plaintext"
    }
   },
   "source": [
    "## Introduction"
   ]
  },
  {
   "cell_type": "markdown",
   "metadata": {},
   "source": [
    "In this tutorial, we use the Metro Interstate Traffic Volume dataset. It contains hourly measurements between 2012 and 2018 of various weather features and holidays to assess the impact on traffic volume on the westbound I-94 between Minneapolis and St. Paul, Minnesota.\n",
    "\n",
    "Run the following cell to load the data for this tutorial. We will truncate the dataset and only take the last 6 months of data recorded."
   ]
  },
  {
   "cell_type": "code",
   "execution_count": null,
   "metadata": {},
   "outputs": [],
   "source": [
    "df = pd.read_csv('data/Metro_Interstate_Traffic_Volume.csv')\n",
    "df = df[df['date_time'] >= '2018-04-10']\n",
    "df"
   ]
  },
  {
   "cell_type": "markdown",
   "metadata": {},
   "source": [
    "## Lesson 1: Encode Time-based Features"
   ]
  },
  {
   "cell_type": "markdown",
   "metadata": {},
   "source": [
    "Let's begin with encoding time-based features. In the dataset, the date and time of each measurement is recorded in the `date_time` column. "
   ]
  },
  {
   "cell_type": "code",
   "execution_count": null,
   "metadata": {},
   "outputs": [],
   "source": [
    "display(df['date_time'])\n",
    "\n",
    "# Try accessing one of the values\n",
    "df['date_time'].values[0]"
   ]
  },
  {
   "cell_type": "markdown",
   "metadata": {},
   "source": [
    "Notice the data type of the column and the cell output. It seems like the data type is currently `str`. In order to access the date and time information in these values, we need to convert it to the `datetime64` data type. \n",
    "\n",
    "Pandas provides a convenient API, `to_datetime`, to convert these values into the datetime64 data type. Luckily, the datetime objects are already in [ISO 8601 format](https://www.iso.org/iso-8601-date-and-time-format.html), so we don't have to specify a particular format. Run the following cell to convert the data type."
   ]
  },
  {
   "cell_type": "code",
   "execution_count": null,
   "metadata": {},
   "outputs": [],
   "source": [
    "print(f\"Data type before conversion: {type(df['date_time'].values[0])}\")\n",
    "\n",
    "# Convert the data to datetime64 and replace previous values.\n",
    "df['date_time'] = pd.to_datetime(df['date_time'])\n",
    "\n",
    "print(f\"Data type after conversion: {type(df['date_time'].values[0])}\")"
   ]
  },
  {
   "cell_type": "markdown",
   "metadata": {},
   "source": [
    "Now that we have the right data type, we have access to [many properties](https://pandas.pydata.org/pandas-docs/stable/user_guide/timeseries.html#time-date-components) of the datetime object. For example, it might be helpful to indicate to a model which day of the week the measurement was recorded.\n",
    "\n",
    "We can access this information using `weekday()` on the elements in the column. This returns an integer of the day of the week, from 0 (Monday) to 6 (Sunday)."
   ]
  },
  {
   "cell_type": "code",
   "execution_count": null,
   "metadata": {},
   "outputs": [],
   "source": [
    "df['weekday'] = df['date_time'].apply(lambda x: x.weekday())\n",
    "df['weekday']"
   ]
  },
  {
   "cell_type": "code",
   "execution_count": null,
   "metadata": {},
   "outputs": [],
   "source": [
    "plt.figure(figsize=(12, 7));\n",
    "plt.plot(df['date_time'], df['weekday']);"
   ]
  },
  {
   "cell_type": "markdown",
   "metadata": {},
   "source": [
    "We can then create a new column `is_weekend` by checking if the day is Saturday (5) or Sunday (6)."
   ]
  },
  {
   "cell_type": "code",
   "execution_count": null,
   "metadata": {},
   "outputs": [],
   "source": [
    "df['is_weekend'] = df['weekday'].apply(lambda x: 1 if x >= 5 else 0)\n",
    "\n",
    "plt.figure(figsize=(10, 7));\n",
    "plt.plot(df['date_time'], df['is_weekend']);"
   ]
  },
  {
   "cell_type": "markdown",
   "metadata": {},
   "source": [
    "What if we decide to use a scale-dependent model? This means that the model we use is sensitive to data encoded as an ordinal variable. For example, if we use a linear regression model, the model will assume Sunday (6) is more important than Monday (0). \n",
    "\n",
    "We can resolve this with **one-hot encoding**! But how do we retrieve the day of the week? We can use the `strftime` or \"string from time\" function from Python's `datetime` module. By using a specific code, we can retrieve a string representation of the date or time.\n",
    "\n",
    "To get the name of the weekday, we can use `strftime(%A)` on the datetime object, then use `pd.get_dummies` to encode the column."
   ]
  },
  {
   "cell_type": "code",
   "execution_count": null,
   "metadata": {},
   "outputs": [],
   "source": [
    "# Apply the weekday name to the `datetime` column\n",
    "df['weekday_name'] = df['date_time'].apply(lambda x: x.strftime('%A'))\n",
    "display(df['weekday_name'])\n",
    "\n",
    "# One-hot encode the `weekday_name` column\n",
    "pd.get_dummies(df, columns=['weekday_name'], dtype=int)"
   ]
  },
  {
   "cell_type": "markdown",
   "metadata": {},
   "source": [
    "Feel free to use the following cell to see what kinds of information appears from the datetime object using `strftime`. Use [this cheatsheet](https://strftime.org/) to get an idea of what the different codes are."
   ]
  },
  {
   "cell_type": "code",
   "execution_count": null,
   "metadata": {},
   "outputs": [],
   "source": [
    "df['date_time'].apply(lambda x: x.strftime(...))"
   ]
  },
  {
   "cell_type": "markdown",
   "metadata": {},
   "source": [
    "### Key Points\n",
    "\n",
    "- Convert objects to datetime with `pd.to_datetime`. You may need to specify its format if it is not ISO 8601 compliant.\n",
    "- Some time-based features, like hour or day of week, should not be used in scale-dependent models like a linear regression model. One way to circumvent this is by one-hot encoding.\n",
    "- Use `strftime()` to parse and format dates."
   ]
  },
  {
   "cell_type": "markdown",
   "metadata": {},
   "source": [
    "## Lesson 2: Lag Features"
   ]
  },
  {
   "cell_type": "markdown",
   "metadata": {},
   "source": [
    "Lag features are useful when previous measurements may influence the current measurement. For example, temperature at 6PM is often influenced by the temperature earlier in the day at 3PM. If you have stable weather conditions, yesterday's high might influence today's high temperature. Another example is the demand for a particular item today might be influenced by the demand recorded 7 days ago.\n",
    "\n",
    "Pandas provides a convenient API, `shift` ([API documentation](https://pandas.pydata.org/docs/reference/api/pandas.DataFrame.shift.html)), to create these lag features."
   ]
  },
  {
   "cell_type": "code",
   "execution_count": null,
   "metadata": {},
   "outputs": [],
   "source": [
    "lag_hours = 1\n",
    "\n",
    "df['temp_lag'] = df['temp'].shift(periods=lag_hours)\n",
    "df[['date_time', 'temp', 'temp_lag']]"
   ]
  },
  {
   "cell_type": "markdown",
   "metadata": {},
   "source": [
    "<div class=\"alert alert-info\">\n",
    "    Note the frequency of your data. If we wanted to lag the temperature data by one day, we would need to specify <code>periods=24</code> since we are working with hourly measurements.\n",
    "</div>\n"
   ]
  },
  {
   "cell_type": "markdown",
   "metadata": {},
   "source": [
    "### Key Points\n",
    "- Use lag feautres when past values impact future values.\n",
    "- Be mindful of the frequency of your time series data. "
   ]
  },
  {
   "cell_type": "markdown",
   "metadata": {},
   "source": [
    "## Lesson 3: Windows"
   ]
  },
  {
   "cell_type": "markdown",
   "metadata": {},
   "source": [
    "### Rolling Windows\n",
    "One way to smooth out noise and highlight trends in time series data is by using rolling windows. A rolling window computes a value over a range of time, then \"slides\" over by a specified interval, and repeats the computation on the next window until the end of the series. The following animation illustrates how a rolling mean is computed.\n",
    "\n",
    "<img src=\"assets/rollingwindow.gif\" alt=\"Explanation of rolling window\" width=\"800\"/>\n",
    "\n",
    "For this example, we will work with a subset of the data. Run the following cell to view the raw data."
   ]
  },
  {
   "cell_type": "code",
   "execution_count": null,
   "metadata": {},
   "outputs": [],
   "source": [
    "df3 = df[df['date_time'] <= '2018-06-01']\n",
    "plt.figure(figsize=(10, 7));\n",
    "\n",
    "# raw measurements\n",
    "plt.plot(df3['date_time'], df3['temp']);\n",
    "plt.xticks(rotation=45);"
   ]
  },
  {
   "cell_type": "markdown",
   "metadata": {},
   "source": [
    "We can compute a rolling window statistic using the pandas [`rolling` API](https://pandas.pydata.org/docs/reference/api/pandas.DataFrame.rolling.html). It works similarly to groupby—you call an additional function to apply an operation on the windows.\n",
    "\n",
    "You define a the size of the window using the `window` parameter. You may also specify the minimum number of observations required to compute a value with the `min_periods` parameter.\n",
    "\n",
    "Choosing the right window size may take some experimentation. The next module covers feature selection techniques, which may help in selecting the most helpful window sizes for your model.\n",
    "\n",
    "In the following cell, we compute the rolling average (or moving average) on the temperature data using a window size of 24. In other words, we are taking the average temperature over a day. Notice how the spikes in the plot are smoothed out."
   ]
  },
  {
   "cell_type": "code",
   "execution_count": null,
   "metadata": {},
   "outputs": [],
   "source": [
    "plt.figure(figsize=(10, 7));\n",
    "\n",
    "plt.plot(df3['date_time'], df3['temp'].rolling(window=24, min_periods=1).mean(), color=(1,.49,.13), label='window=24')\n",
    "plt.plot(df3['date_time'], df3['temp'], label='raw', alpha=0.5);\n",
    "plt.legend();\n",
    "plt.xticks(rotation=45);"
   ]
  },
  {
   "cell_type": "markdown",
   "metadata": {},
   "source": [
    "Feel free to experiment with different size windows and operations on different columns in the following cell! Refer to the [list of the window operations](https://pandas.pydata.org/docs/reference/window.html#api-functions-rolling) in the pandas documentation."
   ]
  },
  {
   "cell_type": "code",
   "execution_count": null,
   "metadata": {},
   "outputs": [],
   "source": [
    "plt.figure(figsize=(10, 7));\n",
    "\n",
    "# Try out different parameters and operations!\n",
    "rolling_stat = df3['temp'].rolling(window=48, min_periods=1).max()\n",
    "\n",
    "plt.plot(df3['date_time'], rolling_stat, label='rolling', color=(1, 0, 0));\n",
    "plt.plot(df3['date_time'], df3['temp'], label='raw', alpha=0.5);\n",
    "plt.legend();\n",
    "plt.xticks(rotation=45);"
   ]
  },
  {
   "cell_type": "markdown",
   "metadata": {},
   "source": [
    "### Expanding Windows\n",
    "\n",
    "In comparison, an expanding window includes all previous data. While a rolling window has a fixed window size, an expanding window has a fixed starting point. Continuing the example of taking the average, an expanding window will compute what the average value is *so far*. Expanding windows are useful when you need to consider all historical data up to the current observation. \n",
    "\n",
    "Pandas also conveniently provides an `expanding` API, with a [set of operations](https://pandas.pydata.org/docs/reference/window.html#expanding-window-functions) you can use just like the rolling API. Run the following cell and inspect the expanding average across the dataset."
   ]
  },
  {
   "cell_type": "code",
   "execution_count": null,
   "metadata": {},
   "outputs": [],
   "source": [
    "plt.figure(figsize=(10, 7));\n",
    "\n",
    "# plotting raw data\n",
    "plt.plot(df['date_time'], df['temp'], label='raw', alpha=0.6)\n",
    "\n",
    "# expanding window\n",
    "y =  df['temp'].expanding().mean()\n",
    "plt.plot(df['date_time'], y, label='expanding mean')\n",
    "\n",
    "# plot full sample mean\n",
    "plt.hlines(y=df['temp'].mean(), xmin=df['date_time'].min(), xmax=df['date_time'].max(), colors=['g'], linestyles=['--'], label='full sample mean');\n",
    "plt.legend();"
   ]
  },
  {
   "cell_type": "markdown",
   "metadata": {},
   "source": [
    "Notice how the values at the beginning are unstable. As more data points are included in the computation, the curve begins to smooth out and converge to the full sample average."
   ]
  },
  {
   "cell_type": "markdown",
   "metadata": {},
   "source": [
    "### Key Points"
   ]
  },
  {
   "cell_type": "markdown",
   "metadata": {},
   "source": [
    "- Rolling windows applies a function over a fixed-size subset of data. This helps smooth out noise.\n",
    "    - Window sizes can be configured and may require some experimentation to find the right window size for your model.\n",
    "- Expanding windows has a fixed starting point and applies a function over all historical data. Use this when you need to keep all prior information."
   ]
  },
  {
   "cell_type": "markdown",
   "metadata": {},
   "source": [
    "-------"
   ]
  },
  {
   "cell_type": "markdown",
   "metadata": {},
   "source": [
    "## Resources"
   ]
  },
  {
   "cell_type": "markdown",
   "metadata": {},
   "source": [
    "- Python `strftime` cheat sheet: https://strftime.org/\n",
    "- Rolling window functions: https://pandas.pydata.org/docs/reference/window.html#api-functions-rolling \n",
    "- Expanding window functions: https://pandas.pydata.org/docs/reference/window.html#expanding-window-functions"
   ]
  },
  {
   "cell_type": "markdown",
   "metadata": {},
   "source": [
    "## References"
   ]
  },
  {
   "cell_type": "markdown",
   "metadata": {},
   "source": [
    "[1] J. Hogue. \"Metro Interstate Traffic Volume,\" UCI Machine Learning Repository, 2019. [Online]. Available: https://doi.org/10.24432/C5X60B."
   ]
  },
  {
   "cell_type": "markdown",
   "metadata": {},
   "source": [
    " \n",
    "<br>"
   ]
  }
 ],
 "metadata": {
  "kernelspec": {
   "display_name": "Python 3",
   "language": "python",
   "name": "python3"
  },
  "language_info": {
   "codemirror_mode": {
    "name": "ipython",
    "version": 3
   },
   "file_extension": ".py",
   "mimetype": "text/x-python",
   "name": "python",
   "nbconvert_exporter": "python",
   "pygments_lexer": "ipython3",
   "version": "3.13.1"
  }
 },
 "nbformat": 4,
 "nbformat_minor": 2
}
